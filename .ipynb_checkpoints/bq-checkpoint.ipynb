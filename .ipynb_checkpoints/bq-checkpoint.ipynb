{
 "cells": [
  {
   "cell_type": "code",
   "execution_count": 2,
   "metadata": {},
   "outputs": [
    {
     "name": "stdout",
     "output_type": "stream",
     "text": [
      "Once deleted, variables cannot be recovered. Proceed (y/[n])? y\n"
     ]
    }
   ],
   "source": [
    "%reset\n",
    "import pandas as pd\n",
    "import numpy as np\n",
    "import nbinteract as nbi\n",
    "from ipywidgets import interact\n",
    "project_id = \"alert-diode-220611\""
   ]
  },
  {
   "cell_type": "code",
   "execution_count": 4,
   "metadata": {},
   "outputs": [
    {
     "name": "stdout",
     "output_type": "stream",
     "text": [
      "  state gender  year       name  number\n",
      "0    NJ      F  1910       Mary     593\n",
      "1    NJ      F  1910      Helen     438\n",
      "2    NJ      F  1910       Anna     355\n",
      "3    NJ      F  1910   Margaret     311\n",
      "4    NJ      F  1910  Elizabeth     260\n",
      "5    NJ      F  1910    Dorothy     255\n",
      "6    NJ      F  1910       Rose     201\n",
      "7    NJ      F  1910       Ruth     188\n",
      "8    NJ      F  1910    Mildred     174\n",
      "9    NJ      F  1910   Florence     169\n"
     ]
    }
   ],
   "source": [
    "query = \"SELECT * FROM my_data.2019 LIMIT 10\"\n",
    "t = pd.read_gbq(query,project_id,reauth=False)\n",
    "print(t)"
   ]
  },
  {
   "cell_type": "code",
   "execution_count": 5,
   "metadata": {},
   "outputs": [],
   "source": [
    "def get_occurrences(n):\n",
    "    if n in list(t.name):\n",
    "        num = t[t.name == n].number.iloc[0]\n",
    "        return \"# of occurrences: %d\" % num\n",
    "    return \"couldn't find %s in the table\" % n"
   ]
  },
  {
   "cell_type": "code",
   "execution_count": 6,
   "metadata": {},
   "outputs": [
    {
     "data": {
      "application/vnd.jupyter.widget-view+json": {
       "model_id": "0c84461de3f74594ae46dd4052540d11",
       "version_major": 2,
       "version_minor": 0
      },
      "text/plain": [
       "interactive(children=(Text(value='Mary', description='n'), Output()), _dom_classes=('widget-interact',))"
      ]
     },
     "metadata": {},
     "output_type": "display_data"
    }
   ],
   "source": [
    "interact(get_occurrences, n='Mary');"
   ]
  }
 ],
 "metadata": {
  "kernelspec": {
   "display_name": "Python 3",
   "language": "python",
   "name": "python3"
  },
  "language_info": {
   "codemirror_mode": {
    "name": "ipython",
    "version": 3
   },
   "file_extension": ".py",
   "mimetype": "text/x-python",
   "name": "python",
   "nbconvert_exporter": "python",
   "pygments_lexer": "ipython3",
   "version": "3.6.7"
  }
 },
 "nbformat": 4,
 "nbformat_minor": 2
}
